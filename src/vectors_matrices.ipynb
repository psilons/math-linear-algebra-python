{
 "cells": [
  {
   "cell_type": "markdown",
   "metadata": {
    "pycharm": {
     "name": "#%% md\n"
    }
   },
   "source": [
    "## Vectors"
   ]
  },
  {
   "cell_type": "code",
   "execution_count": 22,
   "metadata": {},
   "outputs": [
    {
     "name": "stdout",
     "output_type": "stream",
     "text": [
      "[ 5. 10. 15.]\n",
      "20\n"
     ]
    }
   ],
   "source": [
    "import numpy\n",
    "\n",
    "vec_a = numpy.array([1, 2, 3])\n",
    "x = 5.0\n",
    "print(x * vec_a) # vector times scalar\n",
    "print(vec_a.T) # vector and matrix operations - transpose\n",
    "print(vec_a.shape)\n",
    "vec_a1 = vec_a.reshape(3, 1) # change 1 row X 3 cols to 3 rows X 1 col\n",
    "print(vec_a1)\n",
    "print(vec_a1.shape)\n",
    "print(vec_a.reshape(-1, 1)) # specify one dimension is enough\n",
    "\n",
    "vec_b = numpy.array([2, 3, 4])\n",
    "print(vec_a.dot(vec_b)) # inner product, but check doc for different dimensions\n",
    "# https://numpy.org/doc/stable/reference/generated/numpy.dot.html\n",
    "# There is also vdot: https://numpy.org/doc/stable/reference/generated/numpy.vdot.html"
   ]
  },
  {
   "cell_type": "markdown",
   "metadata": {},
   "source": [
    "## Matrices"
   ]
  },
  {
   "cell_type": "code",
   "execution_count": 23,
   "metadata": {
    "pycharm": {
     "name": "#%%\n"
    }
   },
   "outputs": [
    {
     "name": "stdout",
     "output_type": "stream",
     "text": [
      "-2.0000000000000004\n",
      "[[-2.   1. ]\n",
      " [ 1.5 -0.5]]\n"
     ]
    }
   ],
   "source": [
    "mat_a = numpy.array([[1, 2], [3, 4]])\n",
    "\n",
    "print(numpy.linalg.det(mat_a))\n",
    "print(numpy.linalg.inv(mat_a)) # only square matrix has inv\n",
    "print(numpy.zeros(3, 2)) # a 3 X 2 matrix with all zero values\n",
    "print(numpy.ones(3, 2)) # a 3 X 2 matrix with all values 1\n",
    "print(numpy.random.rand(3, 2)) # random numbers between 0 and 1\n",
    "print(numpy.random.randn(3, 2)) # random numbers with normal distribution"
   ]
  },
  {
   "cell_type": "markdown",
   "metadata": {},
   "source": [
    "scalar * matrix"
   ]
  },
  {
   "cell_type": "code",
   "execution_count": 24,
   "metadata": {
    "pycharm": {
     "name": "#%%\n"
    }
   },
   "outputs": [
    {
     "name": "stdout",
     "output_type": "stream",
     "text": [
      "[[ 5. 10.]\n",
      " [15. 20.]]\n"
     ]
    }
   ],
   "source": [
    "print(x * mat_a)"
   ]
  },
  {
   "cell_type": "markdown",
   "metadata": {},
   "source": [
    "vector * matrix"
   ]
  },
  {
   "cell_type": "code",
   "execution_count": 25,
   "metadata": {
    "pycharm": {
     "name": "#%%\n"
    }
   },
   "outputs": [
    {
     "name": "stdout",
     "output_type": "stream",
     "text": [
      "[17 39]\n",
      "[[ 5 12]\n",
      " [15 24]]\n",
      "[17 39]\n"
     ]
    }
   ],
   "source": [
    "vec_c = numpy.array([5, 6])\n",
    "print(mat_a.dot(vec_c)) # this is actually matrix * vector\n",
    "# don't do mat_a * vec_c, it's element wise.\n",
    "print(mat_a * vec_c)\n",
    "# another correct way\n",
    "print(mat_a @ vec_c)\n"
   ]
  },
  {
   "cell_type": "markdown",
   "metadata": {},
   "source": [
    "matrix * matrix"
   ]
  },
  {
   "cell_type": "code",
   "execution_count": 26,
   "metadata": {},
   "outputs": [
    {
     "name": "stdout",
     "output_type": "stream",
     "text": [
      "[[21 24 27]\n",
      " [47 54 61]]\n"
     ]
    }
   ],
   "source": [
    "mat_b = numpy.array([[5, 6, 7], [8, 9, 10]])\n",
    "# This is not in math, not working at all\n",
    "# print(mat_a * mat_b)\n",
    "# This is in math\n",
    "print(mat_a @ mat_b)\n"
   ]
  },
  {
   "cell_type": "markdown",
   "metadata": {
    "pycharm": {
     "name": "#%% md\n"
    }
   },
   "source": [
    "Linear equations"
   ]
  },
  {
   "cell_type": "code",
   "execution_count": null,
   "outputs": [],
   "source": [
    "print(numpy.linalg.solve(mat_a, vec_c))\n",
    "# actually, we could find inverse of mat_a, then times that to vec_c\n",
    "# Matrix A is singular if there exists x != 0 such that Ax = 0.\n",
    "# det(A) = 0\n",
    "\n",
    "# Hilbert Matrix\n",
    "# https://blogs.mathworks.com/cleve/2017/07/17/what-is-the-condition-number-of-a-matrix/\n",
    "B = [[4.1, 2.8], [9.7, 6.6]]\n",
    "print(numpy.linalg.det(B)) # close to 0\n",
    "print(numpy.linalg.cond(B)) # >> 1"
   ],
   "metadata": {
    "collapsed": false,
    "pycharm": {
     "name": "#%%\n"
    }
   }
  }
 ],
 "metadata": {
  "kernelspec": {
   "display_name": "Python 3",
   "language": "python",
   "name": "python3"
  },
  "language_info": {
   "codemirror_mode": {
    "name": "ipython",
    "version": 3
   },
   "file_extension": ".py",
   "mimetype": "text/x-python",
   "name": "python",
   "nbconvert_exporter": "python",
   "pygments_lexer": "ipython3",
   "version": "3.8.5"
  }
 },
 "nbformat": 4,
 "nbformat_minor": 1
}