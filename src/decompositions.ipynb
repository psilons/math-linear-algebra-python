{
 "cells": [
  {
   "cell_type": "markdown",
   "metadata": {
    "collapsed": true,
    "pycharm": {
     "name": "#%% md\n"
    }
   },
   "source": [
    "## Decompositions\n",
    "Here are some decompositions\n",
    "\n",
    "[Source](https://people.duke.edu/~ccc14/sta-663-2016/07_LinearAlgebra2.html#LU-Decomposition-and-Gaussian-Elimination)\n",
    "\n",
    "### LU Decomposition\n",
    "A = P * L * U\n",
    "\n",
    "P - permutation matrix\n",
    "\n",
    "L - lower triangle\n",
    "\n",
    "U - upper triangle"
   ]
  },
  {
   "cell_type": "code",
   "execution_count": 21,
   "metadata": {
    "pycharm": {
     "name": "#%%\n"
    }
   },
   "outputs": [
    {
     "name": "stdout",
     "output_type": "stream",
     "text": [
      "A:\n",
      "array([[1, 3, 4],\n",
      "       [2, 1, 3],\n",
      "       [4, 1, 2]])\n",
      "[[0 0 0]\n",
      " [2 0 0]\n",
      " [4 1 0]]\n",
      "--------------------------------------------------------------------------------\n",
      "[[1 0 0]\n",
      " [0 1 0]\n",
      " [0 0 2]]\n",
      "--------------------------------------------------------------------------------\n",
      "[[0 3 4]\n",
      " [0 0 3]\n",
      " [0 0 0]]\n",
      "[[ 0  0  0]\n",
      " [ 0  6  8]\n",
      " [ 0 12 19]]\n"
     ]
    }
   ],
   "source": [
    "import pprint\n",
    "import numpy as np\n",
    "\n",
    "mat_a = np.array([[1,3,4],[2,1,3],[4,1,2]])\n",
    "print('A:')\n",
    "pprint.pprint(mat_a)\n",
    "\n",
    "# upper & lower triangle, D is diagonal, but no pivoting.\n",
    "U = np.triu(mat_a,1)\n",
    "L = np.tril(mat_a, -1)\n",
    "D = np.tril(np.triu(mat_a))\n",
    "print(L)\n",
    "print('-' * 80)\n",
    "print(D)\n",
    "print('-' * 80)\n",
    "print(U)\n",
    "print(L @ D @ U) # This is totally wrong."
   ]
  },
  {
   "cell_type": "code",
   "execution_count": 22,
   "metadata": {
    "pycharm": {
     "name": "#%%\n"
    }
   },
   "outputs": [
    {
     "name": "stdout",
     "output_type": "stream",
     "text": [
      "P:\n",
      "array([[0., 1., 0.],\n",
      "       [0., 0., 1.],\n",
      "       [1., 0., 0.]])\n",
      "L:\n",
      "array([[1.        , 0.        , 0.        ],\n",
      "       [0.25      , 1.        , 0.        ],\n",
      "       [0.5       , 0.18181818, 1.        ]])\n",
      "U:\n",
      "array([[4.        , 1.        , 2.        ],\n",
      "       [0.        , 2.75      , 3.5       ],\n",
      "       [0.        , 0.        , 1.36363636]])\n",
      "P*L*U:\n",
      "array([[1., 3., 4.],\n",
      "       [2., 1., 3.],\n",
      "       [4., 1., 2.]])\n"
     ]
    }
   ],
   "source": [
    "import scipy.linalg as la\n",
    "\n",
    "# Since numpy uses partial pivoting, P is the permutation matrix\n",
    "P, L, U = la.lu(mat_a)\n",
    "print(\"P:\")\n",
    "pprint.pprint(P)\n",
    "print(\"L:\")\n",
    "pprint.pprint(L)\n",
    "print(\"U:\")\n",
    "pprint.pprint(U)\n",
    "print('P*L*U:')\n",
    "pprint.pprint(P @ L @ U) # we should back to A = P * L * U"
   ]
  },
  {
   "cell_type": "markdown",
   "metadata": {},
   "source": [
    "### LDU Decomposition\n",
    "A = P * L * D * U\n",
    "\n",
    "D - diagonal"
   ]
  },
  {
   "cell_type": "code",
   "execution_count": 23,
   "metadata": {},
   "outputs": [
    {
     "name": "stdout",
     "output_type": "stream",
     "text": [
      "P:\n",
      "array([[0., 1., 0.],\n",
      "       [0., 0., 1.],\n",
      "       [1., 0., 0.]])\n",
      "L:\n",
      "array([[1.        , 0.        , 0.        ],\n",
      "       [0.25      , 1.        , 0.        ],\n",
      "       [0.5       , 0.18181818, 1.        ]])\n",
      "D:\n",
      "array([[4.        , 0.        , 0.        ],\n",
      "       [0.        , 2.75      , 0.        ],\n",
      "       [0.        , 0.        , 1.36363636]])\n",
      "U:\n",
      "array([[1.        , 0.25      , 0.5       ],\n",
      "       [0.        , 1.        , 1.27272727],\n",
      "       [0.        , 0.        , 1.        ]])\n",
      "P*L*D*U:\n",
      "array([[1., 3., 4.],\n",
      "       [2., 1., 3.],\n",
      "       [4., 1., 2.]])\n"
     ]
    }
   ],
   "source": [
    "P, L, U = la.lu(mat_a)\n",
    "# L's diagonal has 1's\n",
    "D = np.diag(np.diag(U))\n",
    "\n",
    "U /= np.diag(U)[:, None]\n",
    "# now U's diagonal has 1's\n",
    "\n",
    "print(\"P:\")\n",
    "pprint.pprint(P)\n",
    "print(\"L:\")\n",
    "pprint.pprint(L)\n",
    "print(\"D:\")\n",
    "pprint.pprint(D)\n",
    "print(\"U:\")\n",
    "pprint.pprint(U)\n",
    "print('P*L*D*U:')\n",
    "pprint.pprint(P @ L @ D @ U)\n"
   ]
  },
  {
   "cell_type": "markdown",
   "source": [
    "### Jordan Normal Forms\n",
    "Jordan decomposition is not stable numerically.\n",
    "But in theory, it's important."
   ],
   "metadata": {
    "collapsed": false,
    "pycharm": {
     "name": "#%% md\n"
    }
   }
  },
  {
   "cell_type": "code",
   "execution_count": null,
   "metadata": {},
   "outputs": [],
   "source": [
    "from sympy import Matrix\n",
    "\n",
    "a = np.array([[5, 4, 2, 1], [0, 1, -1, -1], [-1, -1, 3, 0], [1, 1, -1, 2]])\n",
    "print(np.linalg.matrix_rank(a))\n",
    "m = Matrix(a)\n",
    "P, J = m.jordan_form()\n"
   ]
  },
  {
   "cell_type": "markdown",
   "source": [
    "### Rank Factorization\n"
   ],
   "metadata": {
    "collapsed": false
   }
  },
  {
   "cell_type": "markdown",
   "source": [
    "### SVD - Singular Value Decomposition\n",
    "[machinelearningmastery.com](https://machinelearningmastery.com/singular-value-decomposition-for-machine-learning/)\n",
    "has a good discussion.\n",
    "[Here](https://hadrienj.github.io/posts/Deep-Learning-Book-Series-2.8-Singular-Value-Decomposition/)\n",
    "[Here](https://www.askpython.com/python/examples/singular-value-decomposition)\n",
    "\n",
    "A = np.array([[3,4,3],[1,2,3],[4,2,1]])\n",
    "\n",
    "U, D, VT = np.linalg.svd(A)\n",
    "\n",
    "A_remake = (U @ np.diag(D) @ VT)"
   ],
   "metadata": {
    "collapsed": false,
    "pycharm": {
     "name": "#%% md\n"
    }
   }
  },
  {
   "cell_type": "markdown",
   "source": [
    "### QR Decomposition"
   ],
   "metadata": {
    "collapsed": false
   }
  },
  {
   "cell_type": "markdown",
   "source": [
    "### Eigenvalues and Eigenvectors"
   ],
   "metadata": {
    "collapsed": false
   }
  },
  {
   "cell_type": "markdown",
   "source": [
    "### Generalized Inverse\n",
    "For n X m matrix, there is no inverse. However,\n",
    "https://meshlogic.github.io/posts/jupyter/linear-algebra/linear-algebra-numpy-2/"
   ],
   "metadata": {
    "collapsed": false
   }
  },
  {
   "cell_type": "markdown",
   "source": [
    "### Cholesky decomposition\n",
    "A = U<sup>*</sup> U, where * means conjugate transpose.\n",
    "\n",
    "https://en.wikipedia.org/wiki/Cholesky_decomposition"
   ],
   "metadata": {
    "collapsed": false
   }
  },
  {
   "cell_type": "markdown",
   "source": [
    "### Schur decomposition"
   ],
   "metadata": {
    "collapsed": false
   }
  }
 ],
 "metadata": {
  "kernelspec": {
   "display_name": "Python 3",
   "language": "python",
   "name": "python3"
  },
  "language_info": {
   "codemirror_mode": {
    "name": "ipython",
    "version": 3
   },
   "file_extension": ".py",
   "mimetype": "text/x-python",
   "name": "python",
   "nbconvert_exporter": "python",
   "pygments_lexer": "ipython3",
   "version": "3.8.5"
  }
 },
 "nbformat": 4,
 "nbformat_minor": 1
}